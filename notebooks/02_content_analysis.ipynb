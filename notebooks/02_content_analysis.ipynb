{
 "cells": [
  {
   "cell_type": "markdown",
   "id": "9d755b76-79ed-42bb-b8ed-31bec1630470",
   "metadata": {},
   "source": [
    "## Content Analysis Module"
   ]
  },
  {
   "cell_type": "markdown",
   "id": "2439b64c-6743-4b88-a68d-8f7b37121ee4",
   "metadata": {},
   "source": [
    "#### Objective"
   ]
  },
  {
   "cell_type": "markdown",
   "id": "1c142f1a-f777-480f-ac1c-76006939a87a",
   "metadata": {},
   "source": [
    "This notebook will cover the entire content analysis pipeline, including:\n",
    "\n",
    "- Preprocessing (Step 3.1)\n",
    "- Vectorization (Step 3.2)\n",
    "- Topic modeling (Step 3.3)\n",
    "- Keyword extraction (Step 3.4)\n",
    "- Sentiment analysis (Step 3.5)\n",
    "- Categorization (Step 3.6)"
   ]
  },
  {
   "cell_type": "markdown",
   "id": "493d62ab-7911-4378-b262-e9169986fdef",
   "metadata": {},
   "source": [
    "**Preprocessig pipeline**\n",
    "\n",
    "| Substep | Concept                     | Purpose                                 |\n",
    "| ------- | --------------------------- | --------------------------------------- |\n",
    "| 3.1     | 🔤 **Text preprocessing**   | Clean and normalize text                |\n",
    "| 3.2     | 🔢 **TF-IDF vectorization** | Turn text into numbers for ML models    |\n",
    "| 3.3     | 📚 **Topic modeling**       | Discover dominant themes in content     |\n",
    "| 3.4     | 🔑 **Keyword extraction**   | Find top keywords                       |\n",
    "| 3.5     | 😊 **Sentiment analysis**   | Detect positivity/negativity            |\n",
    "| 3.6     | 🏷️ **Categorization**      | Assign content to categories (optional) |\n"
   ]
  },
  {
   "cell_type": "markdown",
   "id": "e09b7c82-c7b5-4575-b406-2989c210cc0f",
   "metadata": {},
   "source": [
    "#### Required Setup"
   ]
  },
  {
   "cell_type": "code",
   "execution_count": 53,
   "id": "56b7d648-fe00-4a74-b726-8086da68a779",
   "metadata": {},
   "outputs": [],
   "source": [
    "from pathlib import Path\n",
    "import nltk\n",
    "from nltk.corpus import stopwords\n",
    "from nltk.tokenize import word_tokenize\n",
    "import string\n",
    "import pandas as pd\n",
    "import sqlite3\n",
    "\n",
    "from sklearn.feature_extraction.text import TfidfVectorizer # for TF-IDF Modeling\n",
    "from sklearn.decomposition import NMF # For topic modelling NMF\n"
   ]
  },
  {
   "cell_type": "code",
   "execution_count": 54,
   "id": "f9401780-faa6-48d8-a0e7-c0d4bb20e174",
   "metadata": {},
   "outputs": [
    {
     "name": "stderr",
     "output_type": "stream",
     "text": [
      "[nltk_data] Downloading package punkt_tab to\n",
      "[nltk_data]     /Users/vinothhaldorai/nltk_data...\n",
      "[nltk_data]   Package punkt_tab is already up-to-date!\n",
      "[nltk_data] Downloading package stopwords to\n",
      "[nltk_data]     /Users/vinothhaldorai/nltk_data...\n",
      "[nltk_data]   Package stopwords is already up-to-date!\n"
     ]
    },
    {
     "data": {
      "text/plain": [
       "True"
      ]
     },
     "execution_count": 54,
     "metadata": {},
     "output_type": "execute_result"
    }
   ],
   "source": [
    "# Download stopwords + tokenizer once\n",
    "nltk.download(\"punkt_tab\") # pre-trained tokenizer model for sentence and word splitting.\n",
    "nltk.download(\"stopwords\") # Stopwords are common words that appear frequently but carry little meaningful information: e.g. the, is, and, on.."
   ]
  },
  {
   "cell_type": "code",
   "execution_count": 55,
   "id": "c37aba0d-24fc-4fd6-a593-73e761ef4cf6",
   "metadata": {},
   "outputs": [],
   "source": [
    "# Define English stopwords\n",
    "stop_words = set(stopwords.words(\"english\"))"
   ]
  },
  {
   "cell_type": "markdown",
   "id": "67cb0f63-7b1a-47ed-94bb-31f49f18bc46",
   "metadata": {},
   "source": [
    "### Text Preprocessing (Step 3.1)"
   ]
  },
  {
   "cell_type": "markdown",
   "id": "a8cbb624-e56a-4e90-9a26-bd8cce97f1a9",
   "metadata": {},
   "source": [
    "Raw text contains\n",
    "- irrelevant symbols (punctuation, emojis, etc.)\n",
    "- Stopwords (e.g., \"the\", \"and\", \"in\")\n",
    "- Inconsistent casing\n",
    "- Words with the same meaning in different forms (\"running\", \"run\")\n",
    "\n",
    "Cleaning improves the quality of:\n",
    "- TF-IDF vectorization\n",
    "- Topic modeling\n",
    "- Sentiment analysis"
   ]
  },
  {
   "cell_type": "code",
   "execution_count": 57,
   "id": "eb874290-5578-421e-a15e-e44881d53c93",
   "metadata": {},
   "outputs": [],
   "source": [
    "def clean_text(text):\n",
    "    if not isinstance(text, str):\n",
    "        return \"\"\n",
    "\n",
    "    # 1. Convert to Lowercase\n",
    "    text = text.lower()\n",
    "\n",
    "    # 2. Remove punctuations\n",
    "    text = text.translate(str.maketrans(\"\", \"\", string.punctuation))\n",
    "\n",
    "    # 3. Tokenize\n",
    "    tokens = word_tokenize(text)\n",
    "\n",
    "    # 4. Remove stopwords\n",
    "    tokens = [word for word in tokens if word not in stop_words]\n",
    "\n",
    "    # 5. Rejoin as clean string\n",
    "    return \" \".join(tokens)"
   ]
  },
  {
   "cell_type": "markdown",
   "id": "e9cfd3ef-0ca9-4e32-ac63-2e3929f953a0",
   "metadata": {},
   "source": [
    "#### Connect to the database and load the content table"
   ]
  },
  {
   "cell_type": "code",
   "execution_count": 58,
   "id": "3a4f430a-5501-4ed2-9646-773177c077b7",
   "metadata": {},
   "outputs": [
    {
     "name": "stdout",
     "output_type": "stream",
     "text": [
      "Loaded content data from: /Users/vinothhaldorai/Documents/Vinoth/PROJECTS/content-marketing-agent/data/content_data.db\n"
     ]
    },
    {
     "data": {
      "text/html": [
       "<div>\n",
       "<style scoped>\n",
       "    .dataframe tbody tr th:only-of-type {\n",
       "        vertical-align: middle;\n",
       "    }\n",
       "\n",
       "    .dataframe tbody tr th {\n",
       "        vertical-align: top;\n",
       "    }\n",
       "\n",
       "    .dataframe thead th {\n",
       "        text-align: right;\n",
       "    }\n",
       "</style>\n",
       "<table border=\"1\" class=\"dataframe\">\n",
       "  <thead>\n",
       "    <tr style=\"text-align: right;\">\n",
       "      <th></th>\n",
       "      <th>title</th>\n",
       "      <th>publishedAt</th>\n",
       "      <th>source</th>\n",
       "      <th>publishedDate</th>\n",
       "    </tr>\n",
       "  </thead>\n",
       "  <tbody>\n",
       "    <tr>\n",
       "      <th>0</th>\n",
       "      <td>AI in content marketing: How creators and mark...</td>\n",
       "      <td>2025-07-08 23:43:01+00:00</td>\n",
       "      <td>Google Search</td>\n",
       "      <td>2025-07-08</td>\n",
       "    </tr>\n",
       "    <tr>\n",
       "      <th>1</th>\n",
       "      <td>AI in Marketing recent news | Content Marketin...</td>\n",
       "      <td>2025-07-08 23:43:01+00:00</td>\n",
       "      <td>Google Search</td>\n",
       "      <td>2025-07-08</td>\n",
       "    </tr>\n",
       "    <tr>\n",
       "      <th>2</th>\n",
       "      <td>A Complete Guide to Adopting AI in Content Mar...</td>\n",
       "      <td>2025-07-08 23:43:01+00:00</td>\n",
       "      <td>Google Search</td>\n",
       "      <td>2025-07-08</td>\n",
       "    </tr>\n",
       "    <tr>\n",
       "      <th>3</th>\n",
       "      <td>AI tools for content marketing : r/marketing</td>\n",
       "      <td>2025-07-08 23:43:01+00:00</td>\n",
       "      <td>Google Search</td>\n",
       "      <td>2025-07-08</td>\n",
       "    </tr>\n",
       "    <tr>\n",
       "      <th>4</th>\n",
       "      <td>Artificial Intelligence And The Future Of Cont...</td>\n",
       "      <td>2025-07-08 23:43:01+00:00</td>\n",
       "      <td>Google Search</td>\n",
       "      <td>2025-07-08</td>\n",
       "    </tr>\n",
       "  </tbody>\n",
       "</table>\n",
       "</div>"
      ],
      "text/plain": [
       "                                               title  \\\n",
       "0  AI in content marketing: How creators and mark...   \n",
       "1  AI in Marketing recent news | Content Marketin...   \n",
       "2  A Complete Guide to Adopting AI in Content Mar...   \n",
       "3       AI tools for content marketing : r/marketing   \n",
       "4  Artificial Intelligence And The Future Of Cont...   \n",
       "\n",
       "                 publishedAt         source publishedDate  \n",
       "0  2025-07-08 23:43:01+00:00  Google Search    2025-07-08  \n",
       "1  2025-07-08 23:43:01+00:00  Google Search    2025-07-08  \n",
       "2  2025-07-08 23:43:01+00:00  Google Search    2025-07-08  \n",
       "3  2025-07-08 23:43:01+00:00  Google Search    2025-07-08  \n",
       "4  2025-07-08 23:43:01+00:00  Google Search    2025-07-08  "
      ]
     },
     "execution_count": 58,
     "metadata": {},
     "output_type": "execute_result"
    }
   ],
   "source": [
    "\"\"\"\n",
    "# Connnect to the SQL database\n",
    "conn = sqlite3.connect(\"data/content_data.db\")\n",
    "\n",
    "# Load the content table into a DataFrame\n",
    "combined_df = pd.read_sql_query(\"SELECT * FROM content\", conn)\n",
    "\n",
    "# Close the connection\n",
    "conn.close()\n",
    "\"\"\"\n",
    "\n",
    "# Define path to root-level \"data\" folder\n",
    "data_dir = Path.cwd().parent / \"data\"\n",
    "db_path = data_dir / \"content_data.db\"\n",
    "\n",
    "# Connnect to the SQL database\n",
    "conn = sqlite3.connect(db_path)\n",
    "\n",
    "# Load the content table into a DataFrame\n",
    "combined_df = pd.read_sql_query(\"SELECT * FROM content\", conn)\n",
    "\n",
    "# Close the connection\n",
    "conn.close()\n",
    "\n",
    "print(\"Loaded content data from:\", db_path)\n",
    "combined_df.head()"
   ]
  },
  {
   "cell_type": "code",
   "execution_count": 60,
   "id": "dd8c96ae-0649-47ca-ab9e-c4586f40b779",
   "metadata": {},
   "outputs": [
    {
     "name": "stdout",
     "output_type": "stream",
     "text": [
      "<class 'pandas.core.frame.DataFrame'>\n",
      "RangeIndex: 46 entries, 0 to 45\n",
      "Data columns (total 4 columns):\n",
      " #   Column         Non-Null Count  Dtype \n",
      "---  ------         --------------  ----- \n",
      " 0   title          46 non-null     object\n",
      " 1   publishedAt    46 non-null     object\n",
      " 2   source         46 non-null     object\n",
      " 3   publishedDate  46 non-null     object\n",
      "dtypes: object(4)\n",
      "memory usage: 1.6+ KB\n"
     ]
    }
   ],
   "source": [
    "combined_df.info()"
   ]
  },
  {
   "cell_type": "code",
   "execution_count": 61,
   "id": "092b7435-b315-4970-ba38-ace7d1a00c40",
   "metadata": {},
   "outputs": [
    {
     "name": "stdout",
     "output_type": "stream",
     "text": [
      "<class 'pandas.core.frame.DataFrame'>\n",
      "RangeIndex: 46 entries, 0 to 45\n",
      "Data columns (total 4 columns):\n",
      " #   Column         Non-Null Count  Dtype              \n",
      "---  ------         --------------  -----              \n",
      " 0   title          46 non-null     object             \n",
      " 1   publishedAt    46 non-null     datetime64[ns, UTC]\n",
      " 2   source         46 non-null     object             \n",
      " 3   publishedDate  46 non-null     object             \n",
      "dtypes: datetime64[ns, UTC](1), object(3)\n",
      "memory usage: 1.6+ KB\n"
     ]
    }
   ],
   "source": [
    "# Ensure the date column is in proper UTC format\n",
    "combined_df[\"publishedAt\"] = pd.to_datetime(combined_df[\"publishedAt\"], utc=True)\n",
    "combined_df.info()"
   ]
  },
  {
   "cell_type": "markdown",
   "id": "cc132bfb-944b-47f6-a3c5-f570e7f77536",
   "metadata": {},
   "source": [
    "#### Apply Preprocessing"
   ]
  },
  {
   "cell_type": "code",
   "execution_count": 62,
   "id": "eb09a326-21ac-4313-9112-4ed7a1f168fd",
   "metadata": {},
   "outputs": [
    {
     "data": {
      "text/html": [
       "<div>\n",
       "<style scoped>\n",
       "    .dataframe tbody tr th:only-of-type {\n",
       "        vertical-align: middle;\n",
       "    }\n",
       "\n",
       "    .dataframe tbody tr th {\n",
       "        vertical-align: top;\n",
       "    }\n",
       "\n",
       "    .dataframe thead th {\n",
       "        text-align: right;\n",
       "    }\n",
       "</style>\n",
       "<table border=\"1\" class=\"dataframe\">\n",
       "  <thead>\n",
       "    <tr style=\"text-align: right;\">\n",
       "      <th></th>\n",
       "      <th>title</th>\n",
       "      <th>clean_title</th>\n",
       "    </tr>\n",
       "  </thead>\n",
       "  <tbody>\n",
       "    <tr>\n",
       "      <th>0</th>\n",
       "      <td>AI in content marketing: How creators and mark...</td>\n",
       "      <td>ai content marketing creators marketers using ai</td>\n",
       "    </tr>\n",
       "    <tr>\n",
       "      <th>1</th>\n",
       "      <td>AI in Marketing recent news | Content Marketin...</td>\n",
       "      <td>ai marketing recent news content marketing ins...</td>\n",
       "    </tr>\n",
       "    <tr>\n",
       "      <th>2</th>\n",
       "      <td>A Complete Guide to Adopting AI in Content Mar...</td>\n",
       "      <td>complete guide adopting ai content marketing s...</td>\n",
       "    </tr>\n",
       "    <tr>\n",
       "      <th>3</th>\n",
       "      <td>AI tools for content marketing : r/marketing</td>\n",
       "      <td>ai tools content marketing rmarketing</td>\n",
       "    </tr>\n",
       "    <tr>\n",
       "      <th>4</th>\n",
       "      <td>Artificial Intelligence And The Future Of Cont...</td>\n",
       "      <td>artificial intelligence future content marketing</td>\n",
       "    </tr>\n",
       "  </tbody>\n",
       "</table>\n",
       "</div>"
      ],
      "text/plain": [
       "                                               title  \\\n",
       "0  AI in content marketing: How creators and mark...   \n",
       "1  AI in Marketing recent news | Content Marketin...   \n",
       "2  A Complete Guide to Adopting AI in Content Mar...   \n",
       "3       AI tools for content marketing : r/marketing   \n",
       "4  Artificial Intelligence And The Future Of Cont...   \n",
       "\n",
       "                                         clean_title  \n",
       "0   ai content marketing creators marketers using ai  \n",
       "1  ai marketing recent news content marketing ins...  \n",
       "2  complete guide adopting ai content marketing s...  \n",
       "3              ai tools content marketing rmarketing  \n",
       "4   artificial intelligence future content marketing  "
      ]
     },
     "execution_count": 62,
     "metadata": {},
     "output_type": "execute_result"
    }
   ],
   "source": [
    "# Load CSV updated in data collection step\n",
    "# combined_df = pd.read_csv(\"data/combined_data.csv\", parse_dates=[\"publishedAt\"])\n",
    "\n",
    "# Apply text cleaning\n",
    "combined_df[\"clean_title\"] = combined_df[\"title\"].apply(clean_text)\n",
    "\n",
    "# preview result\n",
    "combined_df[[\"title\", \"clean_title\"]].head()"
   ]
  },
  {
   "cell_type": "code",
   "execution_count": 63,
   "id": "cd88e659-1698-4ef8-a238-49ea14073b9c",
   "metadata": {},
   "outputs": [],
   "source": [
    "# print(clean_text(\"This is a sample text for text preprocessing. this is a bunch of random words\"))"
   ]
  },
  {
   "cell_type": "markdown",
   "id": "0e314ef9-bc7e-4235-a957-55e501b79261",
   "metadata": {},
   "source": [
    "### TF-IDF Vectorization"
   ]
  },
  {
   "cell_type": "markdown",
   "id": "20e6d596-fa7c-4cde-93a8-dd19f471bbbd",
   "metadata": {},
   "source": [
    "TF: Term Frequency – how often a word appears in a document\n",
    "\n",
    "IDF: Inverse Document Frequency – penalizes common words across all docs"
   ]
  },
  {
   "cell_type": "markdown",
   "id": "6dcb52a4-a46e-454d-a52c-1fb9b6abe24a",
   "metadata": {},
   "source": [
    "#### Build TF-IDF Model"
   ]
  },
  {
   "cell_type": "code",
   "execution_count": 64,
   "id": "9424d00b-652b-4cd8-81cd-18d796b4c870",
   "metadata": {},
   "outputs": [
    {
     "data": {
      "text/html": [
       "<div>\n",
       "<style scoped>\n",
       "    .dataframe tbody tr th:only-of-type {\n",
       "        vertical-align: middle;\n",
       "    }\n",
       "\n",
       "    .dataframe tbody tr th {\n",
       "        vertical-align: top;\n",
       "    }\n",
       "\n",
       "    .dataframe thead th {\n",
       "        text-align: right;\n",
       "    }\n",
       "</style>\n",
       "<table border=\"1\" class=\"dataframe\">\n",
       "  <thead>\n",
       "    <tr style=\"text-align: right;\">\n",
       "      <th></th>\n",
       "      <th>10</th>\n",
       "      <th>10 ai</th>\n",
       "      <th>11</th>\n",
       "      <th>11 ai</th>\n",
       "      <th>2022</th>\n",
       "      <th>2023</th>\n",
       "      <th>2024</th>\n",
       "      <th>2025</th>\n",
       "      <th>2025 annual</th>\n",
       "      <th>affiliate</th>\n",
       "      <th>...</th>\n",
       "      <th>review</th>\n",
       "      <th>sql</th>\n",
       "      <th>stingray</th>\n",
       "      <th>stingray group</th>\n",
       "      <th>tools</th>\n",
       "      <th>top</th>\n",
       "      <th>top 10</th>\n",
       "      <th>update</th>\n",
       "      <th>use</th>\n",
       "      <th>title</th>\n",
       "    </tr>\n",
       "  </thead>\n",
       "  <tbody>\n",
       "    <tr>\n",
       "      <th>0</th>\n",
       "      <td>0.0</td>\n",
       "      <td>0.0</td>\n",
       "      <td>0.0</td>\n",
       "      <td>0.0</td>\n",
       "      <td>0.0</td>\n",
       "      <td>0.0</td>\n",
       "      <td>0.0</td>\n",
       "      <td>0.0</td>\n",
       "      <td>0.0</td>\n",
       "      <td>0.0</td>\n",
       "      <td>...</td>\n",
       "      <td>0.0</td>\n",
       "      <td>0.0</td>\n",
       "      <td>0.0</td>\n",
       "      <td>0.0</td>\n",
       "      <td>0.000000</td>\n",
       "      <td>0.0</td>\n",
       "      <td>0.0</td>\n",
       "      <td>0.0</td>\n",
       "      <td>0.0</td>\n",
       "      <td>AI in content marketing: How creators and mark...</td>\n",
       "    </tr>\n",
       "    <tr>\n",
       "      <th>1</th>\n",
       "      <td>0.0</td>\n",
       "      <td>0.0</td>\n",
       "      <td>0.0</td>\n",
       "      <td>0.0</td>\n",
       "      <td>0.0</td>\n",
       "      <td>0.0</td>\n",
       "      <td>0.0</td>\n",
       "      <td>0.0</td>\n",
       "      <td>0.0</td>\n",
       "      <td>0.0</td>\n",
       "      <td>...</td>\n",
       "      <td>0.0</td>\n",
       "      <td>0.0</td>\n",
       "      <td>0.0</td>\n",
       "      <td>0.0</td>\n",
       "      <td>0.000000</td>\n",
       "      <td>0.0</td>\n",
       "      <td>0.0</td>\n",
       "      <td>0.0</td>\n",
       "      <td>0.0</td>\n",
       "      <td>AI in Marketing recent news | Content Marketin...</td>\n",
       "    </tr>\n",
       "    <tr>\n",
       "      <th>2</th>\n",
       "      <td>0.0</td>\n",
       "      <td>0.0</td>\n",
       "      <td>0.0</td>\n",
       "      <td>0.0</td>\n",
       "      <td>0.0</td>\n",
       "      <td>0.0</td>\n",
       "      <td>0.0</td>\n",
       "      <td>0.0</td>\n",
       "      <td>0.0</td>\n",
       "      <td>0.0</td>\n",
       "      <td>...</td>\n",
       "      <td>0.0</td>\n",
       "      <td>0.0</td>\n",
       "      <td>0.0</td>\n",
       "      <td>0.0</td>\n",
       "      <td>0.000000</td>\n",
       "      <td>0.0</td>\n",
       "      <td>0.0</td>\n",
       "      <td>0.0</td>\n",
       "      <td>0.0</td>\n",
       "      <td>A Complete Guide to Adopting AI in Content Mar...</td>\n",
       "    </tr>\n",
       "    <tr>\n",
       "      <th>3</th>\n",
       "      <td>0.0</td>\n",
       "      <td>0.0</td>\n",
       "      <td>0.0</td>\n",
       "      <td>0.0</td>\n",
       "      <td>0.0</td>\n",
       "      <td>0.0</td>\n",
       "      <td>0.0</td>\n",
       "      <td>0.0</td>\n",
       "      <td>0.0</td>\n",
       "      <td>0.0</td>\n",
       "      <td>...</td>\n",
       "      <td>0.0</td>\n",
       "      <td>0.0</td>\n",
       "      <td>0.0</td>\n",
       "      <td>0.0</td>\n",
       "      <td>0.377672</td>\n",
       "      <td>0.0</td>\n",
       "      <td>0.0</td>\n",
       "      <td>0.0</td>\n",
       "      <td>0.0</td>\n",
       "      <td>AI tools for content marketing : r/marketing</td>\n",
       "    </tr>\n",
       "    <tr>\n",
       "      <th>4</th>\n",
       "      <td>0.0</td>\n",
       "      <td>0.0</td>\n",
       "      <td>0.0</td>\n",
       "      <td>0.0</td>\n",
       "      <td>0.0</td>\n",
       "      <td>0.0</td>\n",
       "      <td>0.0</td>\n",
       "      <td>0.0</td>\n",
       "      <td>0.0</td>\n",
       "      <td>0.0</td>\n",
       "      <td>...</td>\n",
       "      <td>0.0</td>\n",
       "      <td>0.0</td>\n",
       "      <td>0.0</td>\n",
       "      <td>0.0</td>\n",
       "      <td>0.000000</td>\n",
       "      <td>0.0</td>\n",
       "      <td>0.0</td>\n",
       "      <td>0.0</td>\n",
       "      <td>0.0</td>\n",
       "      <td>Artificial Intelligence And The Future Of Cont...</td>\n",
       "    </tr>\n",
       "  </tbody>\n",
       "</table>\n",
       "<p>5 rows × 101 columns</p>\n",
       "</div>"
      ],
      "text/plain": [
       "    10  10 ai   11  11 ai  2022  2023  2024  2025  2025 annual  affiliate  \\\n",
       "0  0.0    0.0  0.0    0.0   0.0   0.0   0.0   0.0          0.0        0.0   \n",
       "1  0.0    0.0  0.0    0.0   0.0   0.0   0.0   0.0          0.0        0.0   \n",
       "2  0.0    0.0  0.0    0.0   0.0   0.0   0.0   0.0          0.0        0.0   \n",
       "3  0.0    0.0  0.0    0.0   0.0   0.0   0.0   0.0          0.0        0.0   \n",
       "4  0.0    0.0  0.0    0.0   0.0   0.0   0.0   0.0          0.0        0.0   \n",
       "\n",
       "   ...  review  sql  stingray  stingray group     tools  top  top 10  update  \\\n",
       "0  ...     0.0  0.0       0.0             0.0  0.000000  0.0     0.0     0.0   \n",
       "1  ...     0.0  0.0       0.0             0.0  0.000000  0.0     0.0     0.0   \n",
       "2  ...     0.0  0.0       0.0             0.0  0.000000  0.0     0.0     0.0   \n",
       "3  ...     0.0  0.0       0.0             0.0  0.377672  0.0     0.0     0.0   \n",
       "4  ...     0.0  0.0       0.0             0.0  0.000000  0.0     0.0     0.0   \n",
       "\n",
       "   use                                              title  \n",
       "0  0.0  AI in content marketing: How creators and mark...  \n",
       "1  0.0  AI in Marketing recent news | Content Marketin...  \n",
       "2  0.0  A Complete Guide to Adopting AI in Content Mar...  \n",
       "3  0.0       AI tools for content marketing : r/marketing  \n",
       "4  0.0  Artificial Intelligence And The Future Of Cont...  \n",
       "\n",
       "[5 rows x 101 columns]"
      ]
     },
     "execution_count": 64,
     "metadata": {},
     "output_type": "execute_result"
    }
   ],
   "source": [
    "# Create vectorizer\n",
    "tfidf_vectorizer = TfidfVectorizer(max_features=100, ngram_range=(1, 2))\n",
    "\n",
    "# Fit and transform the cleaned titles\n",
    "tfidf_matrix = tfidf_vectorizer.fit_transform(combined_df[\"clean_title\"])\n",
    "\n",
    "# Convert to DataFrame for inspection\n",
    "tfidf_df = pd.DataFrame(tfidf_matrix.toarray(), columns=tfidf_vectorizer.get_feature_names_out())\n",
    "\n",
    "# Add back original titles for context\n",
    "tfidf_df[\"title\"] = combined_df[\"title\"]\n",
    "\n",
    "# Preview result\n",
    "tfidf_df.head()"
   ]
  },
  {
   "cell_type": "code",
   "execution_count": 65,
   "id": "d1a1da61-7c3c-453f-a046-e35875eeeb19",
   "metadata": {},
   "outputs": [
    {
     "name": "stdout",
     "output_type": "stream",
     "text": [
      "<class 'pandas.core.frame.DataFrame'>\n",
      "RangeIndex: 46 entries, 0 to 45\n",
      "Columns: 101 entries, 10 to title\n",
      "dtypes: float64(100), object(1)\n",
      "memory usage: 36.4+ KB\n"
     ]
    }
   ],
   "source": [
    "tfidf_df.info()"
   ]
  },
  {
   "cell_type": "markdown",
   "id": "c5dc7320-7a09-43f4-ab1d-984ed3f669c7",
   "metadata": {},
   "source": [
    "### Topic Modeling (NMF) (Step 3.3)"
   ]
  },
  {
   "cell_type": "markdown",
   "id": "de63c32f-100e-4ccd-83d1-977cf68e14ce",
   "metadata": {},
   "source": [
    "NMF - Non-negative Matrix Factorization \n",
    "\n",
    "Great for short texts like titles"
   ]
  },
  {
   "cell_type": "code",
   "execution_count": 66,
   "id": "bf982db3-2748-4cc3-a1ec-c63ec2bb453a",
   "metadata": {},
   "outputs": [
    {
     "name": "stdout",
     "output_type": "stream",
     "text": [
      "🔹 Topic #1: content marketing, content, marketing, ai, ai content\n",
      "🔹 Topic #2: ai tools, 10, top 10, 10 ai, tools\n",
      "🔹 Topic #3: ai marketing, marketing tools, marketing, tools, ai\n",
      "🔹 Topic #4: new, directors, director, charest new, announces\n",
      "🔹 Topic #5: sql, 2022, affiliate, need, guide\n"
     ]
    }
   ],
   "source": [
    "# Fit topic model\n",
    "nmf_model = NMF(n_components=5, random_state=42)\n",
    "nmf_model.fit(tfidf_matrix)\n",
    "\n",
    "# Get top words per topic\n",
    "feature_names = tfidf_vectorizer.get_feature_names_out()\n",
    "for topic_idx, topic in enumerate(nmf_model.components_):\n",
    "    top_words = [feature_names[i] for i in topic.argsort()[:-6:-1]]\n",
    "    print(f\"🔹 Topic #{topic_idx + 1}: {', '.join(top_words)}\")\n"
   ]
  },
  {
   "cell_type": "markdown",
   "id": "c3dfb0f9-b807-4673-b325-671be9e29326",
   "metadata": {},
   "source": [
    "### Extract top keywords from each title (Step 3.4)"
   ]
  },
  {
   "cell_type": "code",
   "execution_count": 67,
   "id": "47fe5ccf-6ee0-45cf-9a09-88065e4412eb",
   "metadata": {},
   "outputs": [],
   "source": [
    "# Get top TF-IDF keywords per title\n",
    "def extract_keywords_from_vector(vector, feature_names, top_n=3):\n",
    "    sorted_indices = vector.argsort()[::-1][:top_n]\n",
    "    return [feature_names[i] for i in sorted_indices]\n"
   ]
  },
  {
   "cell_type": "code",
   "execution_count": 68,
   "id": "bb6296ce-f54d-4951-91e3-d219917430f2",
   "metadata": {},
   "outputs": [
    {
     "data": {
      "text/html": [
       "<div>\n",
       "<style scoped>\n",
       "    .dataframe tbody tr th:only-of-type {\n",
       "        vertical-align: middle;\n",
       "    }\n",
       "\n",
       "    .dataframe tbody tr th {\n",
       "        vertical-align: top;\n",
       "    }\n",
       "\n",
       "    .dataframe thead th {\n",
       "        text-align: right;\n",
       "    }\n",
       "</style>\n",
       "<table border=\"1\" class=\"dataframe\">\n",
       "  <thead>\n",
       "    <tr style=\"text-align: right;\">\n",
       "      <th></th>\n",
       "      <th>title</th>\n",
       "      <th>top_keywords</th>\n",
       "    </tr>\n",
       "  </thead>\n",
       "  <tbody>\n",
       "    <tr>\n",
       "      <th>0</th>\n",
       "      <td>AI in content marketing: How creators and mark...</td>\n",
       "      <td>[ai, ai content, content marketing]</td>\n",
       "    </tr>\n",
       "    <tr>\n",
       "      <th>1</th>\n",
       "      <td>AI in Marketing recent news | Content Marketin...</td>\n",
       "      <td>[marketing, content marketing, ai marketing]</td>\n",
       "    </tr>\n",
       "    <tr>\n",
       "      <th>2</th>\n",
       "      <td>A Complete Guide to Adopting AI in Content Mar...</td>\n",
       "      <td>[complete, guide, ai content]</td>\n",
       "    </tr>\n",
       "    <tr>\n",
       "      <th>3</th>\n",
       "      <td>AI tools for content marketing : r/marketing</td>\n",
       "      <td>[ai tools, content marketing, content]</td>\n",
       "    </tr>\n",
       "    <tr>\n",
       "      <th>4</th>\n",
       "      <td>Artificial Intelligence And The Future Of Cont...</td>\n",
       "      <td>[future, content marketing, content]</td>\n",
       "    </tr>\n",
       "  </tbody>\n",
       "</table>\n",
       "</div>"
      ],
      "text/plain": [
       "                                               title  \\\n",
       "0  AI in content marketing: How creators and mark...   \n",
       "1  AI in Marketing recent news | Content Marketin...   \n",
       "2  A Complete Guide to Adopting AI in Content Mar...   \n",
       "3       AI tools for content marketing : r/marketing   \n",
       "4  Artificial Intelligence And The Future Of Cont...   \n",
       "\n",
       "                                   top_keywords  \n",
       "0           [ai, ai content, content marketing]  \n",
       "1  [marketing, content marketing, ai marketing]  \n",
       "2                 [complete, guide, ai content]  \n",
       "3        [ai tools, content marketing, content]  \n",
       "4          [future, content marketing, content]  "
      ]
     },
     "execution_count": 68,
     "metadata": {},
     "output_type": "execute_result"
    }
   ],
   "source": [
    "combined_df[\"top_keywords\"] = [\n",
    "    extract_keywords_from_vector(row, tfidf_vectorizer.get_feature_names_out())\n",
    "    for row in tfidf_matrix.toarray()\n",
    "]\n",
    "\n",
    "# Preview with keywords\n",
    "combined_df[[\"title\", \"top_keywords\"]].head()"
   ]
  },
  {
   "cell_type": "code",
   "execution_count": null,
   "id": "97b2f0a4-05f9-45ef-a36e-b349bed47885",
   "metadata": {},
   "outputs": [],
   "source": []
  }
 ],
 "metadata": {
  "kernelspec": {
   "display_name": "Python [conda env:base] *",
   "language": "python",
   "name": "conda-base-py"
  },
  "language_info": {
   "codemirror_mode": {
    "name": "ipython",
    "version": 3
   },
   "file_extension": ".py",
   "mimetype": "text/x-python",
   "name": "python",
   "nbconvert_exporter": "python",
   "pygments_lexer": "ipython3",
   "version": "3.9.23"
  }
 },
 "nbformat": 4,
 "nbformat_minor": 5
}
