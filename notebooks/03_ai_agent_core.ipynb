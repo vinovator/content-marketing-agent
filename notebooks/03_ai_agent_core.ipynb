{
 "cells": [
  {
   "cell_type": "markdown",
   "id": "c66cc4d3-797d-480e-8dc6-6282bdb1a110",
   "metadata": {},
   "source": [
    "## AI Agent Core"
   ]
  },
  {
   "cell_type": "markdown",
   "id": "04e906a7-7381-4115-ae45-a4e50ac10af2",
   "metadata": {},
   "source": [
    "**Goal:** Build intelligent agents that generate, plan, and optimize content using foundation models (like GPT, open-source LLMs, etc.) through the **LangChain framework.**"
   ]
  },
  {
   "cell_type": "markdown",
   "id": "b99c11e3-c562-4094-a21f-48f4b44d78e7",
   "metadata": {},
   "source": [
    "Build **modular, agentic components** that:\n",
    "| Sub-Agent           | What It Does                                           |\n",
    "| ------------------- | ------------------------------------------------------ |\n",
    "| Topic Generator  | Suggests new content topics based on trends + clusters |\n",
    "| Brief Writer     | Creates outlines and summaries                         |\n",
    "| SEO Optimizer    | Enhances content for search discoverability            |\n",
    "| Calendar Planner | Generates a suggested content schedule                 |\n",
    "\n",
    "agents are **composable** — they can call tools, access memory, use documents, or interact with APIs."
   ]
  },
  {
   "cell_type": "markdown",
   "id": "ddc58f19-fb6e-4a12-a6fd-7e7173ca6a56",
   "metadata": {},
   "source": [
    "#### Concepts"
   ]
  },
  {
   "cell_type": "markdown",
   "id": "634d6054-cbad-4e68-a7b8-4792c75e7d04",
   "metadata": {},
   "source": [
    "| Concept            | Explanation                                                                            |\n",
    "| ------------------ | -------------------------------------------------------------------------------------- |\n",
    "| **LangChain**      | Python framework to build LLM-powered agents that can use tools, memory, and workflows |\n",
    "| **PromptTemplate** | Structure + variables used to generate consistent outputs from LLMs                    |\n",
    "| **Tools**          | Functions that your AI agent can call (e.g., search, summarize, recommend)             |\n",
    "| **Chains**         | Sequences of steps the LLM performs (e.g., extract → summarize → plan)                 |\n",
    "| **Memory**         | Lets agents remember past interactions                                                 |\n",
    "| **Agents**         | Smart, autonomous systems that use all the above to complete tasks                     |\n"
   ]
  },
  {
   "cell_type": "markdown",
   "id": "3b84745e-3240-4379-876f-c8f64f2cb1f6",
   "metadata": {},
   "source": [
    "## Step 4.1 - AI Agent Core: Topic Generator"
   ]
  },
  {
   "cell_type": "code",
   "execution_count": 1,
   "id": "a1376161-0905-441f-9fc1-21129c7f66dd",
   "metadata": {},
   "outputs": [],
   "source": [
    "import os\n",
    "import sys\n",
    "import pandas as pd"
   ]
  },
  {
   "cell_type": "code",
   "execution_count": 2,
   "id": "d8e81af3-acf4-4166-afe7-38f2f87af250",
   "metadata": {},
   "outputs": [],
   "source": [
    "# Add project root to sys path\n",
    "\"\"\"\n",
    "This is needed because this notebook file is under root/notebooks folder. \n",
    "Where as the agent files are under root/src/agents folder.\n",
    "This is to navigate from notebooks to agents folder\n",
    "\"\"\"\n",
    "\n",
    "project_root = os.path.abspath(os.path.join(os.getcwd(), \"..\"))\n",
    "#print(project_root)\n",
    "#print(sys.path)\n",
    "\n",
    "if project_root not in sys.path:\n",
    "    sys.path.append(project_root)"
   ]
  },
  {
   "cell_type": "code",
   "execution_count": 3,
   "id": "211883d0-2504-4c50-a00b-7be7ecc51143",
   "metadata": {},
   "outputs": [],
   "source": [
    "# Now we can import from src\n",
    "from src.agents.topic_generator import generate_topics"
   ]
  },
  {
   "cell_type": "code",
   "execution_count": 4,
   "id": "eb499aff-60d4-4800-9027-984768ffe54d",
   "metadata": {},
   "outputs": [
    {
     "name": "stdout",
     "output_type": "stream",
     "text": [
      "Loaded data from: /Users/vinothhaldorai/Documents/Vinoth/PROJECTS/content-marketing-agent/data/combined_data.csv\n",
      "Total articles/ posts: 46\n"
     ]
    },
    {
     "data": {
      "text/html": [
       "<div>\n",
       "<style scoped>\n",
       "    .dataframe tbody tr th:only-of-type {\n",
       "        vertical-align: middle;\n",
       "    }\n",
       "\n",
       "    .dataframe tbody tr th {\n",
       "        vertical-align: top;\n",
       "    }\n",
       "\n",
       "    .dataframe thead th {\n",
       "        text-align: right;\n",
       "    }\n",
       "</style>\n",
       "<table border=\"1\" class=\"dataframe\">\n",
       "  <thead>\n",
       "    <tr style=\"text-align: right;\">\n",
       "      <th></th>\n",
       "      <th>title</th>\n",
       "      <th>publishedAt</th>\n",
       "      <th>source</th>\n",
       "      <th>publishedDate</th>\n",
       "    </tr>\n",
       "  </thead>\n",
       "  <tbody>\n",
       "    <tr>\n",
       "      <th>0</th>\n",
       "      <td>AI in content marketing: How creators and mark...</td>\n",
       "      <td>2025-07-08 23:50:58+00:00</td>\n",
       "      <td>Google Search</td>\n",
       "      <td>2025-07-08</td>\n",
       "    </tr>\n",
       "    <tr>\n",
       "      <th>1</th>\n",
       "      <td>AI in Marketing recent news | Content Marketin...</td>\n",
       "      <td>2025-07-08 23:50:58+00:00</td>\n",
       "      <td>Google Search</td>\n",
       "      <td>2025-07-08</td>\n",
       "    </tr>\n",
       "    <tr>\n",
       "      <th>2</th>\n",
       "      <td>A Complete Guide to Adopting AI in Content Mar...</td>\n",
       "      <td>2025-07-08 23:50:58+00:00</td>\n",
       "      <td>Google Search</td>\n",
       "      <td>2025-07-08</td>\n",
       "    </tr>\n",
       "    <tr>\n",
       "      <th>3</th>\n",
       "      <td>AI tools for content marketing : r/marketing</td>\n",
       "      <td>2025-07-08 23:50:58+00:00</td>\n",
       "      <td>Google Search</td>\n",
       "      <td>2025-07-08</td>\n",
       "    </tr>\n",
       "    <tr>\n",
       "      <th>4</th>\n",
       "      <td>Artificial Intelligence And The Future Of Cont...</td>\n",
       "      <td>2025-07-08 23:50:58+00:00</td>\n",
       "      <td>Google Search</td>\n",
       "      <td>2025-07-08</td>\n",
       "    </tr>\n",
       "  </tbody>\n",
       "</table>\n",
       "</div>"
      ],
      "text/plain": [
       "                                               title  \\\n",
       "0  AI in content marketing: How creators and mark...   \n",
       "1  AI in Marketing recent news | Content Marketin...   \n",
       "2  A Complete Guide to Adopting AI in Content Mar...   \n",
       "3       AI tools for content marketing : r/marketing   \n",
       "4  Artificial Intelligence And The Future Of Cont...   \n",
       "\n",
       "                publishedAt         source publishedDate  \n",
       "0 2025-07-08 23:50:58+00:00  Google Search    2025-07-08  \n",
       "1 2025-07-08 23:50:58+00:00  Google Search    2025-07-08  \n",
       "2 2025-07-08 23:50:58+00:00  Google Search    2025-07-08  \n",
       "3 2025-07-08 23:50:58+00:00  Google Search    2025-07-08  \n",
       "4 2025-07-08 23:50:58+00:00  Google Search    2025-07-08  "
      ]
     },
     "execution_count": 4,
     "metadata": {},
     "output_type": "execute_result"
    }
   ],
   "source": [
    "# Load combined data\n",
    "data_path = os.path.join(project_root, \"data\", \"combined_data.csv\")\n",
    "#print(data_path)\n",
    "\n",
    "if not os.path.exists(data_path):\n",
    "    raise FileNotFoundError(f\"Data file not found at: {data_path}\")\n",
    "\n",
    "combined_df = pd.read_csv(data_path, parse_dates=[\"publishedAt\"])\n",
    "print(f\"Loaded data from: {data_path}\")\n",
    "print(f\"Total articles/ posts: {len(combined_df)}\")\n",
    "\n",
    "combined_df.head()"
   ]
  },
  {
   "cell_type": "markdown",
   "id": "c6af9b9d-6dda-4bc3-9b77-2204b8a53529",
   "metadata": {},
   "source": [
    "#### Generate topics using Agent"
   ]
  },
  {
   "cell_type": "code",
   "execution_count": 12,
   "id": "745a9b98-7e07-48a4-aa96-6ea8c2a3f22a",
   "metadata": {},
   "outputs": [
    {
     "name": "stdout",
     "output_type": "stream",
     "text": [
      "\n",
      "Suggested Topics:\n",
      "\n",
      "Based on the provided keywords, here are five article topics that are fresh, relevant, and engaging for audiences interested in AI and content marketing:\n",
      "\n",
      "1. **\"Harnessing AI for Content Marketing: Real-World Success Stories and Strategies from Top Creators\"**\n",
      "   - Explore how successful marketers and content creators are integrating AI tools into their strategies, highlighting specific case studies and examples that demonstrate real ROI.\n",
      "\n",
      "2. **\"The Future of Content Marketing: Top 10 AI Tools You Need to Know in 2025\"**\n",
      "   - A forward-looking analysis of emerging AI tools that are set to revolutionize content marketing, including predictions on their potential impact on creativity and efficiency.\n",
      "\n",
      "3. **\"From Ideas to Execution: How AI Tools Are Shaping Marketing Campaigns in 2024\"**\n",
      "   - Discuss the latest AI tools available for marketers, focusing on how they can streamline the content creation process, improve audience targeting, and enhance campaign performance.\n",
      "\n",
      "4. **\"Navigating the AI Landscape: A Complete Guide for Creators and Marketers\"**\n",
      "   - A comprehensive guide on adopting AI in content marketing, detailing practical steps for integrating AI tools, overcoming challenges, and maximizing the benefits of AI technologies.\n",
      "\n",
      "5. **\"AI and Sustainable Marketing: How Artificial Intelligence Is Transforming the Future of Food Marketing\"**\n",
      "   - Investigate the role of AI in promoting sustainable food practices and products, emphasizing innovative marketing strategies that appeal to environmentally conscious consumers.\n",
      "\n",
      "These topics not only align with current trends in AI and content marketing but also provide valuable insights and actionable information for readers.\n"
     ]
    }
   ],
   "source": [
    "# Generate topics using agent\n",
    "# We will pass recent titles from multiple platforms to LLM\n",
    "\n",
    "titles = combined_df[\"title\"].dropna().tolist()\n",
    "# print(titles)\n",
    "\n",
    "# Call the LLM agent\n",
    "topics = generate_topics(titles)\n",
    "\n",
    "# Display suggested topics\n",
    "print(\"\\nSuggested Topics:\\n\")\n",
    "\"\"\"\n",
    "for i, topic in enumerate(topics, 1):\n",
    "    print(f\"{i}. {topic}\")\n",
    "\"\"\"\n",
    "print(topics)"
   ]
  },
  {
   "cell_type": "code",
   "execution_count": 6,
   "id": "327d1f6a-9e26-407e-af0a-8f878b134f5a",
   "metadata": {},
   "outputs": [
    {
     "name": "stdout",
     "output_type": "stream",
     "text": [
      "Here are five article topics that incorporate the keywords \"AI in marketing,\" \"SEO automation,\" and \"generative content,\" while ensuring they are fresh, relevant, and engaging:\n",
      "\n",
      "1. **\"Harnessing AI in Marketing: The Future of Personalized Customer Experiences\"**  \n",
      "   Explore how AI technologies can be utilized to tailor marketing strategies to individual customer preferences, enhancing engagement and conversion rates. Discuss case studies of brands successfully implementing AI-driven personalization.\n",
      "\n",
      "2. **\"SEO Automation: Streamlining Your Strategy with AI Tools\"**  \n",
      "   Delve into the latest SEO automation tools powered by AI, examining how they can improve keyword research, content optimization, and performance tracking. Provide a step-by-step guide on integrating these tools into existing marketing workflows for maximum efficiency.\n",
      "\n",
      "3. **\"The Rise of Generative Content: How AI is Shaping Creative Marketing Strategies\"**  \n",
      "   Investigate the impact of generative content on marketing campaigns, focusing on how AI can create compelling visuals, articles, and social media posts. Highlight best practices for leveraging generative content while maintaining brand consistency.\n",
      "\n",
      "4. **\"From Keyword to Content: Automating SEO with AI-Driven Generative Solutions\"**  \n",
      "   Discuss the intersection of SEO automation and generative content, showcasing how AI can transform keywords into high-quality, relevant content automatically. Include insights on balancing automation with human oversight for optimal results.\n",
      "\n",
      "5. **\"Ethics and AI in Marketing: Navigating the Challenges of Automation and Generative Content\"**  \n",
      "   Examine the ethical considerations surrounding the use of AI in marketing, particularly in SEO automation and generative content creation. Address potential pitfalls, such as misinformation and authenticity, while offering strategies for responsible AI usage.\n",
      "\n",
      "These topics not only align with current trends but also provide valuable insights and actionable strategies for marketers looking to leverage AI and automation in their campaigns.\n"
     ]
    }
   ],
   "source": [
    "# Example usage\n",
    "sample_keywords = [\"AI in marketing\", \"SEO automation\", \"generative content\"]\n",
    "print(generate_topics(sample_keywords))"
   ]
  },
  {
   "cell_type": "code",
   "execution_count": null,
   "id": "9ef77ced-900d-4da0-94be-14a1a56f398b",
   "metadata": {},
   "outputs": [],
   "source": []
  }
 ],
 "metadata": {
  "kernelspec": {
   "display_name": "Python [conda env:base] *",
   "language": "python",
   "name": "conda-base-py"
  },
  "language_info": {
   "codemirror_mode": {
    "name": "ipython",
    "version": 3
   },
   "file_extension": ".py",
   "mimetype": "text/x-python",
   "name": "python",
   "nbconvert_exporter": "python",
   "pygments_lexer": "ipython3",
   "version": "3.9.23"
  }
 },
 "nbformat": 4,
 "nbformat_minor": 5
}
